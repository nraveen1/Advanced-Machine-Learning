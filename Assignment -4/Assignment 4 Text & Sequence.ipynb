{
  "nbformat": 4,
  "nbformat_minor": 0,
  "metadata": {
    "colab": {
      "provenance": []
    },
    "kernelspec": {
      "name": "python3",
      "display_name": "Python 3"
    },
    "language_info": {
      "name": "python"
    }
  },
  "cells": [
    {
      "cell_type": "code",
      "execution_count": 2,
      "metadata": {
        "id": "8GSYxK3A_aZi"
      },
      "outputs": [],
      "source": [
        "import keras\n",
        "keras.__version__\n",
        "import keras\n",
        "keras.__version__\n",
        "import numpy as np\n",
        "import pandas as pd\n",
        "import seaborn as sns\n",
        "import matplotlib.pyplot as plt\n",
        "%matplotlib inline\n",
        "from tensorflow import keras\n",
        "from tensorflow.keras import layers\n",
        "from tensorflow.keras.callbacks import EarlyStopping\n",
        "from tensorflow.keras.callbacks import ModelCheckpoint\n",
        "from keras.datasets import imdb\n",
        "from keras import preprocessing\n",
        "from keras.models import Sequential\n",
        "from keras.layers import Flatten, Dense, Embedding, LSTM,  Conv1D, MaxPooling1D, GlobalMaxPooling1D, Dropout\n",
        "from keras.models import load_model\n",
        "from keras.preprocessing.text import Tokenizer\n",
        "from sklearn.model_selection import train_test_split"
      ]
    },
    {
      "cell_type": "code",
      "source": [
        "pip install --upgrade tensorflow"
      ],
      "metadata": {
        "id": "fnAr11rDCEIV"
      },
      "execution_count": null,
      "outputs": []
    },
    {
      "cell_type": "code",
      "source": [
        "from tensorflow import keras\n",
        "from keras.preprocessing.sequence import pad_sequences\n",
        "from keras.optimizers import RMSprop\n",
        "from keras.optimizers import Adam\n",
        "from google.colab import files\n",
        "import re, os\n",
        "from keras.layers import Dropout"
      ],
      "metadata": {
        "id": "JLUsI2HGCWJL"
      },
      "execution_count": 4,
      "outputs": []
    },
    {
      "cell_type": "code",
      "source": [
        "pip install scikit-learn"
      ],
      "metadata": {
        "id": "unOYn7V_H7_F"
      },
      "execution_count": null,
      "outputs": []
    },
    {
      "cell_type": "markdown",
      "source": [
        "**Creating an embedding layer:**"
      ],
      "metadata": {
        "id": "EDqrAsQjXX_S"
      }
    },
    {
      "cell_type": "code",
      "source": [
        "from keras.layers import Embedding\n",
        "embedding_layer = Embedding(1000, 64)"
      ],
      "metadata": {
        "id": "xQe5unvBDjSu"
      },
      "execution_count": 6,
      "outputs": []
    },
    {
      "cell_type": "markdown",
      "source": [
        "**Train and Test set with cut off and Max features:**"
      ],
      "metadata": {
        "id": "7ipeCsehX5Hd"
      }
    },
    {
      "cell_type": "code",
      "source": [
        "from keras.datasets import imdb\n",
        "from keras import preprocessing\n",
        "\n",
        "# Number of words to consider as features\n",
        "max_features = 10000\n",
        "# Cut texts after this number of words\n",
        "# (among top max_features most common words)\n",
        "maxlen = 20\n",
        "\n",
        "# Load the data as lists of integers.\n",
        "(x_train, y_train), (x_test, y_test) = imdb.load_data(num_words=max_features)\n",
        "\n",
        "# This turns our lists of integers\n",
        "# into a 2D integer tensor of shape `(samples, maxlen)`\n",
        "x_train = preprocessing.sequence.pad_sequences(x_train, maxlen=maxlen)\n",
        "x_test = preprocessing.sequence.pad_sequences(x_test, maxlen=maxlen)"
      ],
      "metadata": {
        "id": "Ps3JsUesanbF"
      },
      "execution_count": 71,
      "outputs": []
    },
    {
      "cell_type": "markdown",
      "source": [
        "Add learing rate as Hyperparameter:"
      ],
      "metadata": {
        "id": "f4ou4JF_YWtP"
      }
    },
    {
      "cell_type": "code",
      "source": [
        "from keras.models import Sequential\n",
        "from keras.layers import Flatten, Dense\n",
        "\n",
        "model = Sequential()\n",
        "# We specify the maximum input length to our Embedding layer\n",
        "# so we can later flatten the embedded inputs\n",
        "model.add(Embedding(10000, 8, input_length=maxlen))# 10000 the size of the vocabulary (the number of unique words),8 the dense word vectors for each word in the vocabulary.\n",
        "# After the Embedding layer,\n",
        "# our activations have shape `(samples, maxlen, 8)`.\n",
        "\n",
        "# We flatten the 3D tensor of embeddings\n",
        "# into a 2D tensor of shape `(samples, maxlen * 8)`\n",
        "model.add(Flatten())\n",
        "\n",
        "# We add the classifier on top\n",
        "model.add(Dense(1, activation='sigmoid'))\n",
        "model.compile(optimizer='rmsprop', loss='binary_crossentropy', metrics=['acc'])\n",
        "model.summary()\n",
        "\n",
        "history = model.fit(x_train, y_train,\n",
        "                    epochs=10,\n",
        "                    batch_size=32,\n",
        "                    validation_split=0.2)"
      ],
      "metadata": {
        "colab": {
          "base_uri": "https://localhost:8080/"
        },
        "id": "49R_YGJS1vIQ",
        "outputId": "99bc5db7-089a-4862-82f0-a122ac3d96b6"
      },
      "execution_count": 72,
      "outputs": [
        {
          "output_type": "stream",
          "name": "stdout",
          "text": [
            "Model: \"sequential_16\"\n",
            "_________________________________________________________________\n",
            " Layer (type)                Output Shape              Param #   \n",
            "=================================================================\n",
            " embedding_17 (Embedding)    (None, 20, 8)             80000     \n",
            "                                                                 \n",
            " flatten_16 (Flatten)        (None, 160)               0         \n",
            "                                                                 \n",
            " dense_16 (Dense)            (None, 1)                 161       \n",
            "                                                                 \n",
            "=================================================================\n",
            "Total params: 80161 (313.13 KB)\n",
            "Trainable params: 80161 (313.13 KB)\n",
            "Non-trainable params: 0 (0.00 Byte)\n",
            "_________________________________________________________________\n",
            "Epoch 1/10\n"
          ]
        },
        {
          "output_type": "stream",
          "name": "stderr",
          "text": [
            "WARNING:tensorflow:AutoGraph could not transform <function Model.make_train_function.<locals>.train_function at 0x782e6c5f56c0> and will run it as-is.\n",
            "Please report this to the TensorFlow team. When filing the bug, set the verbosity to 10 (on Linux, `export AUTOGRAPH_VERBOSITY=10`) and attach the full output.\n",
            "Cause: closure mismatch, requested ('self', 'step_function'), but source function had ()\n",
            "To silence this warning, decorate the function with @tf.autograph.experimental.do_not_convert\n"
          ]
        },
        {
          "output_type": "stream",
          "name": "stdout",
          "text": [
            "WARNING: AutoGraph could not transform <function Model.make_train_function.<locals>.train_function at 0x782e6c5f56c0> and will run it as-is.\n",
            "Please report this to the TensorFlow team. When filing the bug, set the verbosity to 10 (on Linux, `export AUTOGRAPH_VERBOSITY=10`) and attach the full output.\n",
            "Cause: closure mismatch, requested ('self', 'step_function'), but source function had ()\n",
            "To silence this warning, decorate the function with @tf.autograph.experimental.do_not_convert\n",
            "612/625 [============================>.] - ETA: 0s - loss: 0.6798 - acc: 0.5842"
          ]
        },
        {
          "output_type": "stream",
          "name": "stderr",
          "text": [
            "WARNING:tensorflow:AutoGraph could not transform <function Model.make_test_function.<locals>.test_function at 0x782e64306e60> and will run it as-is.\n",
            "Please report this to the TensorFlow team. When filing the bug, set the verbosity to 10 (on Linux, `export AUTOGRAPH_VERBOSITY=10`) and attach the full output.\n",
            "Cause: closure mismatch, requested ('self', 'step_function'), but source function had ()\n",
            "To silence this warning, decorate the function with @tf.autograph.experimental.do_not_convert\n"
          ]
        },
        {
          "output_type": "stream",
          "name": "stdout",
          "text": [
            "WARNING: AutoGraph could not transform <function Model.make_test_function.<locals>.test_function at 0x782e64306e60> and will run it as-is.\n",
            "Please report this to the TensorFlow team. When filing the bug, set the verbosity to 10 (on Linux, `export AUTOGRAPH_VERBOSITY=10`) and attach the full output.\n",
            "Cause: closure mismatch, requested ('self', 'step_function'), but source function had ()\n",
            "To silence this warning, decorate the function with @tf.autograph.experimental.do_not_convert\n",
            "625/625 [==============================] - 2s 2ms/step - loss: 0.6790 - acc: 0.5868 - val_loss: 0.6418 - val_acc: 0.6770\n",
            "Epoch 2/10\n",
            "625/625 [==============================] - 1s 2ms/step - loss: 0.5618 - acc: 0.7425 - val_loss: 0.5361 - val_acc: 0.7284\n",
            "Epoch 3/10\n",
            "625/625 [==============================] - 1s 2ms/step - loss: 0.4708 - acc: 0.7850 - val_loss: 0.5053 - val_acc: 0.7438\n",
            "Epoch 4/10\n",
            "625/625 [==============================] - 1s 2ms/step - loss: 0.4281 - acc: 0.8044 - val_loss: 0.4981 - val_acc: 0.7472\n",
            "Epoch 5/10\n",
            "625/625 [==============================] - 1s 2ms/step - loss: 0.4009 - acc: 0.8202 - val_loss: 0.4988 - val_acc: 0.7548\n",
            "Epoch 6/10\n",
            "625/625 [==============================] - 1s 2ms/step - loss: 0.3791 - acc: 0.8332 - val_loss: 0.5012 - val_acc: 0.7532\n",
            "Epoch 7/10\n",
            "625/625 [==============================] - 1s 2ms/step - loss: 0.3591 - acc: 0.8466 - val_loss: 0.5069 - val_acc: 0.7516\n",
            "Epoch 8/10\n",
            "625/625 [==============================] - 1s 2ms/step - loss: 0.3405 - acc: 0.8569 - val_loss: 0.5134 - val_acc: 0.7504\n",
            "Epoch 9/10\n",
            "625/625 [==============================] - 1s 2ms/step - loss: 0.3225 - acc: 0.8670 - val_loss: 0.5215 - val_acc: 0.7504\n",
            "Epoch 10/10\n",
            "625/625 [==============================] - 1s 2ms/step - loss: 0.3049 - acc: 0.8766 - val_loss: 0.5291 - val_acc: 0.7444\n"
          ]
        }
      ]
    },
    {
      "cell_type": "code",
      "source": [
        "import matplotlib.pyplot as plt\n",
        "\n",
        "acc = history.history['acc']\n",
        "val_acc = history.history['val_acc']\n",
        "loss = history.history['loss']\n",
        "val_loss = history.history['val_loss']\n",
        "\n",
        "epochs = range(1, len(acc) + 1)\n",
        "\n",
        "# Creating a new figure for accuracy and modifying the plot\n",
        "plt.figure(figsize=(10, 4))\n",
        "\n",
        "plt.plot(epochs, acc, 'b', label='Training Accuracy', marker='o')\n",
        "plt.plot(epochs, val_acc, 'r', label='Validation Accuracy', marker='x')\n",
        "\n",
        "plt.title('Training and Validation Accuracy')\n",
        "plt.xlabel('Epochs')\n",
        "plt.ylabel('Accuracy')\n",
        "plt.legend()\n",
        "plt.grid(True)\n",
        "plt.style.use('seaborn-darkgrid')\n",
        "\n",
        "plt.show()\n",
        "\n",
        "# Creating a new figure for loss and modifying the plot\n",
        "plt.figure(figsize=(10, 4))\n",
        "\n",
        "plt.plot(epochs, loss, 'b', label='Training Loss', marker='o')\n",
        "plt.plot(epochs, val_loss, 'r', label='Validation Loss', marker='x')\n",
        "plt.title('Training and Validation Loss')\n",
        "plt.xlabel('Epochs')\n",
        "plt.ylabel('Loss')\n",
        "plt.legend()\n",
        "plt.grid(True)\n",
        "plt.style.use('seaborn-darkgrid')\n",
        "plt.show()"
      ],
      "metadata": {
        "colab": {
          "base_uri": "https://localhost:8080/",
          "height": 885
        },
        "id": "g1vTY1tYFz-3",
        "outputId": "4b9077e8-7ac2-4ba8-9231-f6002db73460"
      },
      "execution_count": 38,
      "outputs": [
        {
          "output_type": "stream",
          "name": "stderr",
          "text": [
            "<ipython-input-38-70bcc8a2e93a>:21: MatplotlibDeprecationWarning: The seaborn styles shipped by Matplotlib are deprecated since 3.6, as they no longer correspond to the styles shipped by seaborn. However, they will remain available as 'seaborn-v0_8-<style>'. Alternatively, directly use the seaborn API instead.\n",
            "  plt.style.use('seaborn-darkgrid')\n"
          ]
        },
        {
          "output_type": "display_data",
          "data": {
            "text/plain": [
              "<Figure size 1000x400 with 1 Axes>"
            ],
            "image/png": "[encoded data removed]"
          },
          "metadata": {}
        },
        {
          "output_type": "stream",
          "name": "stderr",
          "text": [
            "<ipython-input-38-70bcc8a2e93a>:35: MatplotlibDeprecationWarning: The seaborn styles shipped by Matplotlib are deprecated since 3.6, as they no longer correspond to the styles shipped by seaborn. However, they will remain available as 'seaborn-v0_8-<style>'. Alternatively, directly use the seaborn API instead.\n",
            "  plt.style.use('seaborn-darkgrid')\n"
          ]
        },
        {
          "output_type": "display_data",
          "data": {
            "text/plain": [
              "<Figure size 1000x400 with 1 Axes>"
            ],
            "image/png": "[encoded data removed]"
          },
          "metadata": {}
        }
      ]
    },
    {
      "cell_type": "markdown",
      "source": [
        "Splitting the data into training and validation to set different sample size"
      ],
      "metadata": {
        "id": "ETbhgOWBb8du"
      }
    },
    {
      "cell_type": "markdown",
      "source": [
        "Scenario 1: Cut-off words: 150, Training samples: 100, Validation samples: 10000, Word count: 10,000"
      ],
      "metadata": {
        "id": "m3pxwrKdXVCX"
      }
    },
    {
      "cell_type": "code",
      "source": [
        "# Setting the maximum number of words to be used in the vocabulary\n",
        "num_words = 10000\n",
        "\n",
        "# Loading the IMDB Dataset\n",
        "(train_data, train_labels), (test_data, test_labels) = imdb.load_data(num_words=num_words)\n",
        "\n",
        "# Cut-Off the reviews after 150 words\n",
        "maxlen = 150\n",
        "train_data = pad_sequences(train_data, maxlen=maxlen)\n",
        "test_data = pad_sequences(test_data, maxlen=maxlen)\n",
        "\n",
        "# Combining the Training and Testing data create an entire dataset\n",
        "texts = np.concatenate((train_data, test_data), axis=0)\n",
        "labels = np.concatenate((train_labels, test_labels), axis=0)\n",
        "\n",
        "# Splitting the data into Training and Validation Samples\n",
        "train_texts, val_texts, train_labels, val_labels = train_test_split(texts, labels, train_size=100, test_size=10000, random_state=42, stratify=labels)\n",
        "\n",
        "# Setting the Sequential Layer for Model Building\n",
        "model = Sequential()\n",
        "\n",
        "# Adding the Embedding Layer with limiting to consider only the top 10,000 Words\n",
        "model.add(Embedding(10000, 8, input_length=maxlen))\n",
        "\n",
        "# Flattening the Size\n",
        "model.add(Flatten())\n",
        "\n",
        "# Adding the Classifer on the top - As the final layer\n",
        "model.add(Dense(1, activation = 'sigmoid'))\n",
        "\n",
        "# Compiling the Model\n",
        "model.compile(optimizer = 'rmsprop', loss = 'binary_crossentropy', metrics = ['acc'])"
      ],
      "metadata": {
        "id": "wmyfkMPtH91L"
      },
      "execution_count": 73,
      "outputs": []
    },
    {
      "cell_type": "code",
      "source": [
        "model.summary()"
      ],
      "metadata": {
        "colab": {
          "base_uri": "https://localhost:8080/"
        },
        "id": "C826dqU92TAj",
        "outputId": "3c35563e-9b70-4836-efca-222ce899df9d"
      },
      "execution_count": 75,
      "outputs": [
        {
          "output_type": "stream",
          "name": "stdout",
          "text": [
            "Model: \"sequential_17\"\n",
            "_________________________________________________________________\n",
            " Layer (type)                Output Shape              Param #   \n",
            "=================================================================\n",
            " embedding_18 (Embedding)    (None, 150, 8)            80000     \n",
            "                                                                 \n",
            " flatten_17 (Flatten)        (None, 1200)              0         \n",
            "                                                                 \n",
            " dense_17 (Dense)            (None, 1)                 1201      \n",
            "                                                                 \n",
            "=================================================================\n",
            "Total params: 81201 (317.19 KB)\n",
            "Trainable params: 81201 (317.19 KB)\n",
            "Non-trainable params: 0 (0.00 Byte)\n",
            "_________________________________________________________________\n"
          ]
        }
      ]
    },
    {
      "cell_type": "markdown",
      "source": [
        "Running the Model:"
      ],
      "metadata": {
        "id": "YZqaucrdIwpL"
      }
    },
    {
      "cell_type": "code",
      "source": [
        "from keras.callbacks import ModelCheckpoint\n",
        "\n",
        "callbacks = ModelCheckpoint(\n",
        "    filepath=\"convnet_from_scratch.keras.h\",\n",
        "    save_best_only=True,\n",
        "    monitor=\"val_loss\"\n",
        ")\n",
        "\n",
        "# Model Fit - Running the Model\n",
        "Model_2 = model.fit(train_texts, train_labels,\n",
        "                    epochs=10,\n",
        "                    batch_size=32,\n",
        "                    validation_data=(val_texts, val_labels),\n",
        "                    callbacks=[callbacks])  # Note: callbacks should be provided as a list\n"
      ],
      "metadata": {
        "colab": {
          "base_uri": "https://localhost:8080/"
        },
        "id": "YCVTK2SIImL5",
        "outputId": "9df6e4eb-8266-4ff6-e6a2-2cf21eb3e0ba"
      },
      "execution_count": 76,
      "outputs": [
        {
          "output_type": "stream",
          "name": "stdout",
          "text": [
            "Epoch 1/10\n",
            "4/4 [==============================] - 1s 312ms/step - loss: 0.5396 - acc: 1.0000 - val_loss: 0.6932 - val_acc: 0.5038\n",
            "Epoch 2/10\n",
            "4/4 [==============================] - 1s 294ms/step - loss: 0.5241 - acc: 1.0000 - val_loss: 0.6932 - val_acc: 0.5023\n",
            "Epoch 3/10\n",
            "4/4 [==============================] - 1s 274ms/step - loss: 0.5079 - acc: 1.0000 - val_loss: 0.6932 - val_acc: 0.5032\n",
            "Epoch 4/10\n",
            "4/4 [==============================] - 1s 318ms/step - loss: 0.4916 - acc: 1.0000 - val_loss: 0.6931 - val_acc: 0.5034\n",
            "Epoch 5/10\n",
            "4/4 [==============================] - 1s 218ms/step - loss: 0.4748 - acc: 1.0000 - val_loss: 0.6932 - val_acc: 0.5043\n",
            "Epoch 6/10\n",
            "4/4 [==============================] - 1s 216ms/step - loss: 0.4581 - acc: 1.0000 - val_loss: 0.6936 - val_acc: 0.5022\n",
            "Epoch 7/10\n",
            "4/4 [==============================] - 0s 116ms/step - loss: 0.4415 - acc: 1.0000 - val_loss: 0.6936 - val_acc: 0.5019\n",
            "Epoch 8/10\n",
            "4/4 [==============================] - 0s 119ms/step - loss: 0.4241 - acc: 1.0000 - val_loss: 0.6936 - val_acc: 0.5024\n",
            "Epoch 9/10\n",
            "4/4 [==============================] - 0s 109ms/step - loss: 0.4066 - acc: 1.0000 - val_loss: 0.6937 - val_acc: 0.5031\n",
            "Epoch 10/10\n",
            "4/4 [==============================] - 1s 216ms/step - loss: 0.3893 - acc: 1.0000 - val_loss: 0.6941 - val_acc: 0.5016\n"
          ]
        }
      ]
    },
    {
      "cell_type": "markdown",
      "source": [
        "Scenario 2: Cut-off words: 100, Training samples: 200, Validation samples: 1000, Word count: 10,000"
      ],
      "metadata": {
        "id": "OTJvytAXXe2j"
      }
    },
    {
      "cell_type": "code",
      "source": [
        "# Setting the maximum number of words to be used in the vocabulary\n",
        "num_words = 10000\n",
        "\n",
        "# Loading the IMDB Dataset\n",
        "(train_data, train_labels), (test_data, test_labels) = imdb.load_data(num_words=num_words)\n",
        "\n",
        "# Cut-Off the reviews after 100 words\n",
        "maxlen = 100\n",
        "train_data = pad_sequences(train_data, maxlen=maxlen)\n",
        "test_data = pad_sequences(test_data, maxlen=maxlen)\n",
        "\n",
        "# Combining the Training and Testing data create an entire dataset\n",
        "texts = np.concatenate((train_data, test_data), axis=0)\n",
        "labels = np.concatenate((train_labels, test_labels), axis=0)\n",
        "\n",
        "# Splitting the data into Training and Validation Samples\n",
        "train_texts, val_texts, train_labels, val_labels = train_test_split(texts, labels, train_size=200, test_size=1000, random_state=42, stratify=labels)\n",
        "\n",
        "# Further split the data to get the test size of 5000 samples\n",
        "_, test_texts, _, test_labels = train_test_split(test_data, test_labels, test_size=5000, random_state=42, stratify=test_labels)\n",
        "# Setting the Sequential Layer for Model Building\n",
        "model = Sequential()\n",
        "\n",
        "# Adding the Embedding Layer with limiting to consider only the top 10,000 Words\n",
        "model.add(Embedding(10000, 8, input_length=maxlen))\n",
        "\n",
        "# Flattening the Size\n",
        "model.add(Flatten())\n",
        "\n",
        "# Adding the Classifer on the top - As the final layer\n",
        "model.add(Dense(1, activation = 'sigmoid'))\n",
        "\n",
        "# Compiling the Model\n",
        "model.compile(optimizer = 'rmsprop', loss = 'binary_crossentropy', metrics = ['acc'])\n"
      ],
      "metadata": {
        "id": "1gfp4EKmN5Bv"
      },
      "execution_count": 57,
      "outputs": []
    },
    {
      "cell_type": "code",
      "source": [
        "model.summary()"
      ],
      "metadata": {
        "colab": {
          "base_uri": "https://localhost:8080/"
        },
        "id": "JV7WIBVFOrBE",
        "outputId": "5c599d97-01f3-4d54-80c7-ae175210a42d"
      },
      "execution_count": 58,
      "outputs": [
        {
          "output_type": "stream",
          "name": "stdout",
          "text": [
            "Model: \"sequential_11\"\n",
            "_________________________________________________________________\n",
            " Layer (type)                Output Shape              Param #   \n",
            "=================================================================\n",
            " embedding_12 (Embedding)    (None, 100, 8)            80000     \n",
            "                                                                 \n",
            " flatten_11 (Flatten)        (None, 800)               0         \n",
            "                                                                 \n",
            " dense_11 (Dense)            (None, 1)                 801       \n",
            "                                                                 \n",
            "=================================================================\n",
            "Total params: 80801 (315.63 KB)\n",
            "Trainable params: 80801 (315.63 KB)\n",
            "Non-trainable params: 0 (0.00 Byte)\n",
            "_________________________________________________________________\n"
          ]
        }
      ]
    },
    {
      "cell_type": "code",
      "source": [
        "from keras.callbacks import ModelCheckpoint\n",
        "\n",
        "callbacks = ModelCheckpoint(\n",
        "    filepath=\"convnet_from_scratch.keras.h\",\n",
        "    save_best_only=True,\n",
        "    monitor=\"val_loss\"\n",
        ")\n",
        "# Model Fit - Running the Model\n",
        "Model_2 = model.fit(train_texts, train_labels,\n",
        "                    epochs=10,\n",
        "                    batch_size=32,\n",
        "                    validation_data=(val_texts, val_labels),\n",
        "                    callbacks=[callbacks])  # Note: callbacks should be provided as a list"
      ],
      "metadata": {
        "colab": {
          "base_uri": "https://localhost:8080/"
        },
        "id": "zWVreT7kOshX",
        "outputId": "1687b8d0-95e8-49f4-e56b-16e7282d1285"
      },
      "execution_count": 60,
      "outputs": [
        {
          "output_type": "stream",
          "name": "stdout",
          "text": [
            "Epoch 1/10\n",
            "7/7 [==============================] - 1s 83ms/step - loss: 0.5149 - acc: 0.9950 - val_loss: 0.6932 - val_acc: 0.5040\n",
            "Epoch 2/10\n",
            "7/7 [==============================] - 0s 16ms/step - loss: 0.4927 - acc: 0.9950 - val_loss: 0.6934 - val_acc: 0.5010\n",
            "Epoch 3/10\n",
            "7/7 [==============================] - 0s 16ms/step - loss: 0.4696 - acc: 0.9950 - val_loss: 0.6937 - val_acc: 0.5000\n",
            "Epoch 4/10\n",
            "7/7 [==============================] - 0s 12ms/step - loss: 0.4460 - acc: 0.9950 - val_loss: 0.6939 - val_acc: 0.5010\n",
            "Epoch 5/10\n",
            "7/7 [==============================] - 0s 15ms/step - loss: 0.4223 - acc: 1.0000 - val_loss: 0.6942 - val_acc: 0.5030\n",
            "Epoch 6/10\n",
            "7/7 [==============================] - 0s 11ms/step - loss: 0.3984 - acc: 1.0000 - val_loss: 0.6945 - val_acc: 0.5010\n",
            "Epoch 7/10\n",
            "7/7 [==============================] - 0s 12ms/step - loss: 0.3746 - acc: 1.0000 - val_loss: 0.6949 - val_acc: 0.5040\n",
            "Epoch 8/10\n",
            "7/7 [==============================] - 0s 12ms/step - loss: 0.3512 - acc: 1.0000 - val_loss: 0.6954 - val_acc: 0.5010\n",
            "Epoch 9/10\n",
            "7/7 [==============================] - 0s 16ms/step - loss: 0.3280 - acc: 1.0000 - val_loss: 0.6958 - val_acc: 0.5010\n",
            "Epoch 10/10\n",
            "7/7 [==============================] - 0s 17ms/step - loss: 0.3055 - acc: 1.0000 - val_loss: 0.6963 - val_acc: 0.4960\n"
          ]
        }
      ]
    },
    {
      "cell_type": "markdown",
      "source": [
        "Scenario 3: Cut-off words: 20, Training samples: 10000, Validation samples: 10000, Word count: 10,000"
      ],
      "metadata": {
        "id": "qOOcT1LiXuI4"
      }
    },
    {
      "cell_type": "code",
      "source": [
        "# Setting the maximum number of words to be used in the vocabulary\n",
        "num_words = 10000\n",
        "\n",
        "# Loading the IMDB Dataset\n",
        "(train_data, train_labels), (test_data, test_labels) = imdb.load_data(num_words=num_words)\n",
        "\n",
        "# Cut-Off the reviews after 150 words\n",
        "maxlen = 20\n",
        "train_data = pad_sequences(train_data, maxlen=maxlen)\n",
        "test_data = pad_sequences(test_data, maxlen=maxlen)\n",
        "\n",
        "# Combining the Training and Testing data create an entire dataset\n",
        "texts = np.concatenate((train_data, test_data), axis=0)\n",
        "labels = np.concatenate((train_labels, test_labels), axis=0)\n",
        "\n",
        "# Splitting the data into Training and Validation Samples\n",
        "train_texts, val_texts, train_labels, val_labels = train_test_split(texts, labels, train_size=10000, test_size=10000, random_state=42, stratify=labels)\n",
        "\n",
        "\n",
        "# Setting the Sequential Layer for Model Building\n",
        "model = Sequential()\n",
        "\n",
        "# Adding the Embedding Layer with limiting to consider only the top 10,000 Words\n",
        "model.add(Embedding(10000, 8, input_length=maxlen))\n",
        "\n",
        "# Flattening the Size\n",
        "model.add(Flatten())\n",
        "\n",
        "# Adding the Classifer on the top - As the final layer\n",
        "model.add(Dense(1, activation = 'sigmoid'))\n",
        "\n",
        "# Compiling the Model\n",
        "model.compile(optimizer = 'rmsprop', loss = 'binary_crossentropy', metrics = ['acc'])"
      ],
      "metadata": {
        "id": "Y5JqFuHsWhUb"
      },
      "execution_count": 61,
      "outputs": []
    },
    {
      "cell_type": "code",
      "source": [
        "from keras.callbacks import ModelCheckpoint\n",
        "\n",
        "callbacks = ModelCheckpoint(\n",
        "    filepath=\"convnet_from_scratch.keras.h\",\n",
        "    save_best_only=True,\n",
        "    monitor=\"val_loss\"\n",
        ")\n",
        "# Model Fit - Running the Model\n",
        "Model_2 = model.fit(train_texts, train_labels,\n",
        "                    epochs=10,\n",
        "                    batch_size=32,\n",
        "                    validation_data=(val_texts, val_labels),\n",
        "                    callbacks=[callbacks])  # Note: callbacks should be provided as a list"
      ],
      "metadata": {
        "colab": {
          "base_uri": "https://localhost:8080/"
        },
        "id": "zFCL4o1GXEnM",
        "outputId": "438652a7-c16f-4a04-dd53-663eb9af56ad"
      },
      "execution_count": 63,
      "outputs": [
        {
          "output_type": "stream",
          "name": "stdout",
          "text": [
            "Epoch 1/10\n",
            "313/313 [==============================] - 1s 4ms/step - loss: 0.2758 - acc: 0.8940 - val_loss: 0.5241 - val_acc: 0.7470\n",
            "Epoch 2/10\n",
            "313/313 [==============================] - 1s 4ms/step - loss: 0.2562 - acc: 0.9039 - val_loss: 0.5343 - val_acc: 0.7440\n",
            "Epoch 3/10\n",
            "313/313 [==============================] - 1s 4ms/step - loss: 0.2379 - acc: 0.9136 - val_loss: 0.5426 - val_acc: 0.7465\n",
            "Epoch 4/10\n",
            "313/313 [==============================] - 1s 3ms/step - loss: 0.2203 - acc: 0.9223 - val_loss: 0.5541 - val_acc: 0.7420\n",
            "Epoch 5/10\n",
            "313/313 [==============================] - 1s 4ms/step - loss: 0.2043 - acc: 0.9293 - val_loss: 0.5652 - val_acc: 0.7390\n",
            "Epoch 6/10\n",
            "313/313 [==============================] - 1s 3ms/step - loss: 0.1890 - acc: 0.9353 - val_loss: 0.5782 - val_acc: 0.7367\n",
            "Epoch 7/10\n",
            "313/313 [==============================] - 1s 3ms/step - loss: 0.1749 - acc: 0.9408 - val_loss: 0.5915 - val_acc: 0.7342\n",
            "Epoch 8/10\n",
            "313/313 [==============================] - 1s 2ms/step - loss: 0.1613 - acc: 0.9456 - val_loss: 0.6058 - val_acc: 0.7315\n",
            "Epoch 9/10\n",
            "313/313 [==============================] - 1s 3ms/step - loss: 0.1490 - acc: 0.9508 - val_loss: 0.6190 - val_acc: 0.7293\n",
            "Epoch 10/10\n",
            "313/313 [==============================] - 1s 3ms/step - loss: 0.1374 - acc: 0.9557 - val_loss: 0.6338 - val_acc: 0.7261\n"
          ]
        }
      ]
    },
    {
      "cell_type": "markdown",
      "source": [
        "Scenario 4: Cut-off words: 150, Training samples: 20000, Validation samples: 20000, Word count: 10,000"
      ],
      "metadata": {
        "id": "qM128NzvYIb2"
      }
    },
    {
      "cell_type": "code",
      "source": [
        "# Setting the maximum number of words to be used in the vocabulary\n",
        "num_words = 10000\n",
        "\n",
        "# Loading the IMDB Dataset\n",
        "(train_data, train_labels), (test_data, test_labels) = imdb.load_data(num_words=num_words)\n",
        "\n",
        "# Cut-Off the reviews after 150 words\n",
        "maxlen = 150\n",
        "train_data = pad_sequences(train_data, maxlen=maxlen)\n",
        "test_data = pad_sequences(test_data, maxlen=maxlen)\n",
        "\n",
        "# Combining the Training and Testing data create an entire dataset\n",
        "texts = np.concatenate((train_data, test_data), axis=0)\n",
        "labels = np.concatenate((train_labels, test_labels), axis=0)\n",
        "\n",
        "# Splitting the data into Training and Validation Samples\n",
        "train_texts, val_texts, train_labels, val_labels = train_test_split(texts, labels, train_size=20000, test_size=20000, random_state=42, stratify=labels)\n",
        "\n",
        "\n",
        "# Setting the Sequential Layer for Model Building\n",
        "model = Sequential()\n",
        "\n",
        "# Adding the Embedding Layer with limiting to consider only the top 10,000 Words\n",
        "model.add(Embedding(10000, 8, input_length=maxlen))\n",
        "\n",
        "# Flattening the Size\n",
        "model.add(Flatten())\n",
        "\n",
        "# Adding the Classifer on the top - As the final layer\n",
        "model.add(Dense(1, activation = 'sigmoid'))\n",
        "\n",
        "# Compiling the Model\n",
        "model.compile(optimizer = 'rmsprop', loss = 'binary_crossentropy', metrics = ['acc'])"
      ],
      "metadata": {
        "id": "ruCa-xR7YJZ0"
      },
      "execution_count": 64,
      "outputs": []
    },
    {
      "cell_type": "code",
      "source": [
        "from keras.callbacks import ModelCheckpoint\n",
        "\n",
        "callbacks = ModelCheckpoint(\n",
        "    filepath=\"convnet_from_scratch.keras.h\",\n",
        "    save_best_only=True,\n",
        "    monitor=\"val_loss\"\n",
        ")\n",
        "# Model Fit - Running the Model\n",
        "Model_2 = model.fit(train_texts, train_labels,\n",
        "                    epochs=10,\n",
        "                    batch_size=32,\n",
        "                    validation_data=(val_texts, val_labels),\n",
        "                    callbacks=[callbacks])  # Note: callbacks should be provided as a list"
      ],
      "metadata": {
        "colab": {
          "base_uri": "https://localhost:8080/"
        },
        "id": "oKdfK7gvYa40",
        "outputId": "bca7d975-6e00-46d6-a560-fb1068f95f2e"
      },
      "execution_count": 66,
      "outputs": [
        {
          "output_type": "stream",
          "name": "stdout",
          "text": [
            "Epoch 1/10\n",
            "625/625 [==============================] - 2s 3ms/step - loss: 0.1013 - acc: 0.9677 - val_loss: 0.3421 - val_acc: 0.8700\n",
            "Epoch 2/10\n",
            "625/625 [==============================] - 2s 3ms/step - loss: 0.0870 - acc: 0.9749 - val_loss: 0.3486 - val_acc: 0.8711\n",
            "Epoch 3/10\n",
            "625/625 [==============================] - 2s 3ms/step - loss: 0.0744 - acc: 0.9791 - val_loss: 0.3586 - val_acc: 0.8687\n",
            "Epoch 4/10\n",
            "625/625 [==============================] - 2s 4ms/step - loss: 0.0629 - acc: 0.9836 - val_loss: 0.3735 - val_acc: 0.8677\n",
            "Epoch 5/10\n",
            "625/625 [==============================] - 3s 5ms/step - loss: 0.0526 - acc: 0.9869 - val_loss: 0.3869 - val_acc: 0.8667\n",
            "Epoch 6/10\n",
            "625/625 [==============================] - 2s 3ms/step - loss: 0.0438 - acc: 0.9895 - val_loss: 0.4040 - val_acc: 0.8641\n",
            "Epoch 7/10\n",
            "625/625 [==============================] - 2s 3ms/step - loss: 0.0357 - acc: 0.9920 - val_loss: 0.4180 - val_acc: 0.8640\n",
            "Epoch 8/10\n",
            "625/625 [==============================] - 2s 4ms/step - loss: 0.0294 - acc: 0.9940 - val_loss: 0.4382 - val_acc: 0.8612\n",
            "Epoch 9/10\n",
            "625/625 [==============================] - 2s 4ms/step - loss: 0.0244 - acc: 0.9945 - val_loss: 0.4542 - val_acc: 0.8598\n",
            "Epoch 10/10\n",
            "625/625 [==============================] - 2s 3ms/step - loss: 0.0198 - acc: 0.9959 - val_loss: 0.4702 - val_acc: 0.8604\n"
          ]
        }
      ]
    },
    {
      "cell_type": "markdown",
      "source": [
        "Scenario 5: Cut-off words: 150, Training samples: 15000, Validation samples: 10000, Word count: 10,000"
      ],
      "metadata": {
        "id": "cYkRCwzTZehj"
      }
    },
    {
      "cell_type": "code",
      "source": [
        "# Setting the maximum number of words to be used in the vocabulary\n",
        "num_words = 10000\n",
        "\n",
        "# Loading the IMDB Dataset\n",
        "(train_data, train_labels), (test_data, test_labels) = imdb.load_data(num_words=num_words)\n",
        "\n",
        "# Cut-Off the reviews after 150 words\n",
        "maxlen = 150\n",
        "train_data = pad_sequences(train_data, maxlen=maxlen)\n",
        "test_data = pad_sequences(test_data, maxlen=maxlen)\n",
        "\n",
        "# Combining the Training and Testing data create an entire dataset\n",
        "texts = np.concatenate((train_data, test_data), axis=0)\n",
        "labels = np.concatenate((train_labels, test_labels), axis=0)\n",
        "\n",
        "# Splitting the data into Training and Validation Samples\n",
        "train_texts, val_texts, train_labels, val_labels = train_test_split(texts, labels, train_size=15000, test_size=10000, random_state=42, stratify=labels)\n",
        "\n",
        "\n",
        "# Setting the Sequential Layer for Model Building\n",
        "model = Sequential()\n",
        "\n",
        "# Adding the Embedding Layer with limiting to consider only the top 10,000 Words\n",
        "model.add(Embedding(10000, 8, input_length=maxlen))\n",
        "\n",
        "# Flattening the Size\n",
        "model.add(Flatten())\n",
        "\n",
        "# Adding the Classifer on the top - As the final layer\n",
        "model.add(Dense(1, activation = 'sigmoid'))\n",
        "\n",
        "# Compiling the Model\n",
        "model.compile(optimizer = 'rmsprop', loss = 'binary_crossentropy', metrics = ['acc'])"
      ],
      "metadata": {
        "id": "yXzVuJ5XYvdd"
      },
      "execution_count": 67,
      "outputs": []
    },
    {
      "cell_type": "code",
      "source": [
        "from keras.callbacks import ModelCheckpoint\n",
        "\n",
        "callbacks = ModelCheckpoint(\n",
        "    filepath=\"convnet_from_scratch.keras.h\",\n",
        "    save_best_only=True,\n",
        "    monitor=\"val_loss\"\n",
        ")\n",
        "# Model Fit - Running the Model\n",
        "Model_2 = model.fit(train_texts, train_labels,\n",
        "                    epochs=10,\n",
        "                    batch_size=32,\n",
        "                    validation_data=(val_texts, val_labels),\n",
        "                    callbacks=[callbacks])  # Note: callbacks should be provided as a list"
      ],
      "metadata": {
        "colab": {
          "base_uri": "https://localhost:8080/"
        },
        "id": "F1xxrWlTY20S",
        "outputId": "893f7650-fde3-4d1d-f639-93345b2da09f"
      },
      "execution_count": 69,
      "outputs": [
        {
          "output_type": "stream",
          "name": "stdout",
          "text": [
            "Epoch 1/10\n",
            "469/469 [==============================] - 2s 3ms/step - loss: 0.0816 - acc: 0.9765 - val_loss: 0.3389 - val_acc: 0.8684\n",
            "Epoch 2/10\n",
            "469/469 [==============================] - 2s 3ms/step - loss: 0.0677 - acc: 0.9819 - val_loss: 0.3547 - val_acc: 0.8631\n",
            "Epoch 3/10\n",
            "469/469 [==============================] - 2s 3ms/step - loss: 0.0552 - acc: 0.9857 - val_loss: 0.3673 - val_acc: 0.8628\n",
            "Epoch 4/10\n",
            "469/469 [==============================] - 1s 3ms/step - loss: 0.0451 - acc: 0.9897 - val_loss: 0.3817 - val_acc: 0.8611\n",
            "Epoch 5/10\n",
            "469/469 [==============================] - 1s 3ms/step - loss: 0.0365 - acc: 0.9917 - val_loss: 0.4110 - val_acc: 0.8571\n",
            "Epoch 6/10\n",
            "469/469 [==============================] - 1s 3ms/step - loss: 0.0287 - acc: 0.9943 - val_loss: 0.4173 - val_acc: 0.8578\n",
            "Epoch 7/10\n",
            "469/469 [==============================] - 2s 3ms/step - loss: 0.0229 - acc: 0.9963 - val_loss: 0.4378 - val_acc: 0.8559\n",
            "Epoch 8/10\n",
            "469/469 [==============================] - 2s 4ms/step - loss: 0.0181 - acc: 0.9971 - val_loss: 0.4561 - val_acc: 0.8538\n",
            "Epoch 9/10\n",
            "469/469 [==============================] - 2s 3ms/step - loss: 0.0144 - acc: 0.9979 - val_loss: 0.4737 - val_acc: 0.8543\n",
            "Epoch 10/10\n",
            "469/469 [==============================] - 2s 4ms/step - loss: 0.0117 - acc: 0.9983 - val_loss: 0.4921 - val_acc: 0.8531\n"
          ]
        }
      ]
    },
    {
      "cell_type": "markdown",
      "source": [
        "Downloading the IMBD Dataset:"
      ],
      "metadata": {
        "id": "yzsxBwddEwVU"
      }
    },
    {
      "cell_type": "code",
      "source": [
        "from google.colab import drive\n",
        "drive.mount('/content/drive')"
      ],
      "metadata": {
        "colab": {
          "base_uri": "https://localhost:8080/"
        },
        "id": "Kw7PCc032vWd",
        "outputId": "b4681619-58e6-4b9c-99d6-9a8fa458a45b"
      },
      "execution_count": null,
      "outputs": [
        {
          "output_type": "stream",
          "name": "stdout",
          "text": [
            "Drive already mounted at /content/drive; to attempt to forcibly remount, call drive.mount(\"/content/drive\", force_remount=True).\n"
          ]
        }
      ]
    },
    {
      "cell_type": "code",
      "source": [
        "%cd /content/drive/MyDrive/"
      ],
      "metadata": {
        "colab": {
          "base_uri": "https://localhost:8080/"
        },
        "id": "Y3_xF94S24F1",
        "outputId": "f56095c6-871f-431f-c29e-689aed65a31d"
      },
      "execution_count": null,
      "outputs": [
        {
          "output_type": "stream",
          "name": "stdout",
          "text": [
            "/content/drive/MyDrive\n"
          ]
        }
      ]
    },
    {
      "cell_type": "code",
      "source": [
        "import os"
      ],
      "metadata": {
        "id": "nMFMjSuq264F"
      },
      "execution_count": null,
      "outputs": []
    },
    {
      "cell_type": "code",
      "source": [
        "!curl -O https://ai.stanford.edu/~amaas/data/sentiment/aclImdb_v1.tar.gz\n",
        "!tar -xf aclImdb_v1.tar.gz\n",
        "\n",
        "!rm -r aclImdb/train/unsup"
      ],
      "metadata": {
        "colab": {
          "base_uri": "https://localhost:8080/"
        },
        "id": "9Hgfjykh27yz",
        "outputId": "0ea8d5b6-aa01-41df-c39a-72fd5076bc09"
      },
      "execution_count": null,
      "outputs": [
        {
          "output_type": "stream",
          "name": "stdout",
          "text": [
            "  % Total    % Received % Xferd  Average Speed   Time    Time     Time  Current\n",
            "                                 Dload  Upload   Total   Spent    Left  Speed\n",
            "100 80.2M  100 80.2M    0     0  2911k      0  0:00:28  0:00:28 --:--:-- 6678k\n"
          ]
        }
      ]
    },
    {
      "cell_type": "markdown",
      "source": [
        "Reading train and test data"
      ],
      "metadata": {
        "id": "vzMKJmZEcH35"
      }
    },
    {
      "cell_type": "code",
      "source": [
        "imdb_dir = '/content/drive/MyDrive/aclImdb'\n",
        "train_dir = os.path.join(imdb_dir, 'train')\n",
        "\n",
        "labels = []\n",
        "texts = []\n",
        "\n",
        "for label_type in ['neg', 'pos']:\n",
        "    dir_name = os.path.join(train_dir, label_type)\n",
        "    for fname in os.listdir(dir_name):\n",
        "        if fname[-4:] == '.txt':\n",
        "            f = open(os.path.join(dir_name, fname))\n",
        "            texts.append(f.read())\n",
        "            f.close()\n",
        "            if label_type == 'neg':\n",
        "                labels.append(0)\n",
        "            else:\n",
        "                labels.append(1)"
      ],
      "metadata": {
        "id": "2Sx4T32x7kVK"
      },
      "execution_count": null,
      "outputs": []
    },
    {
      "cell_type": "markdown",
      "source": [
        "Tokenizing the data"
      ],
      "metadata": {
        "id": "MrFilWjTcLlu"
      }
    },
    {
      "cell_type": "code",
      "source": [
        "from keras.preprocessing.text import Tokenizer\n",
        "from tensorflow.keras.preprocessing.sequence import pad_sequences\n",
        "import numpy as np\n",
        "\n",
        "maxlen = 150  # Cut reviews after 100 words\n",
        "training_samples = 15000  # Train on 1000 samples\n",
        "validation_samples = 10000  # Validate on 1000 samples\n",
        "max_words = 10000  # Consider the top 1000 words in the dataset\n",
        "\n",
        "# Convert NumPy array 'texts' to a list of strings\n",
        "texts_list = [str(text) for text in texts]\n",
        "\n",
        "tokenizer = Tokenizer(num_words=max_words)\n",
        "tokenizer.fit_on_texts(texts_list)\n",
        "sequences = tokenizer.texts_to_sequences(texts_list)\n",
        "\n",
        "word_index = tokenizer.word_index\n",
        "print('Found %s unique tokens.' % len(word_index))\n",
        "\n",
        "data = pad_sequences(sequences, maxlen=maxlen)\n",
        "\n",
        "labels = np.asarray(labels)\n",
        "print('Shape of data tensor:', data.shape)\n",
        "print('Shape of label tensor:', labels.shape)\n",
        "\n",
        "# Shuffle the data and labels\n",
        "indices = np.arange(data.shape[0])\n",
        "np.random.shuffle(indices)\n",
        "data = data[indices]\n",
        "labels = labels[indices]\n",
        "\n",
        "# Split the data into training and validation sets\n",
        "x_train = data[:training_samples]\n",
        "y_train = labels[:training_samples]\n",
        "x_val = data[training_samples: training_samples + validation_samples]\n",
        "y_val = labels[training_samples: training_samples + validation_samples]\n"
      ],
      "metadata": {
        "colab": {
          "base_uri": "https://localhost:8080/"
        },
        "id": "5FIpaCwml2Jp",
        "outputId": "ead4b9fb-5a7a-4dd0-da18-33e864e5c238"
      },
      "execution_count": 155,
      "outputs": [
        {
          "output_type": "stream",
          "name": "stdout",
          "text": [
            "Found 9999 unique tokens.\n",
            "Shape of data tensor: (50000, 150)\n",
            "Shape of label tensor: (50000,)\n"
          ]
        }
      ]
    },
    {
      "cell_type": "markdown",
      "source": [
        "glove embeddings"
      ],
      "metadata": {
        "id": "3gS6lankcQoH"
      }
    },
    {
      "cell_type": "code",
      "source": [
        "glove_dir = '/content/drive/MyDrive/Glove'\n",
        "embeddings_index = {}\n",
        "f = open(os.path.join(glove_dir, 'glove.6B.100d.txt'))\n",
        "for line in f:\n",
        "    values = line.split()\n",
        "    word = values[0]\n",
        "    coefs = np.asarray(values[1:], dtype='float32')\n",
        "    embeddings_index[word] = coefs\n",
        "f.close()\n",
        "print('Found %s word vectors.' % len(embeddings_index))"
      ],
      "metadata": {
        "id": "TFFlF3Pf7--j",
        "outputId": "5177c5c3-11e6-4492-c8a8-04ac9711c5c8",
        "colab": {
          "base_uri": "https://localhost:8080/"
        }
      },
      "execution_count": 156,
      "outputs": [
        {
          "output_type": "stream",
          "name": "stdout",
          "text": [
            "Found 400000 word vectors.\n"
          ]
        }
      ]
    },
    {
      "cell_type": "code",
      "source": [
        "embedding_dim = 100\n",
        "embedding_matrix = np.zeros((max_words, embedding_dim))\n",
        "for word, i in word_index.items():\n",
        "    embedding_vector = embeddings_index.get(word)\n",
        "    if i < max_words:\n",
        "        if embedding_vector is not None:\n",
        "            # Words not found in embedding index will be all-zeros.\n",
        "            embedding_matrix[i] = embedding_vector"
      ],
      "metadata": {
        "id": "SdPWEAkXOnpx"
      },
      "execution_count": 157,
      "outputs": []
    },
    {
      "cell_type": "markdown",
      "source": [
        "Model Definition:"
      ],
      "metadata": {
        "id": "rVM2vk6VTvyw"
      }
    },
    {
      "cell_type": "code",
      "source": [
        "from keras.models import Sequential\n",
        "from keras.layers import Embedding, Flatten, Dense\n",
        "\n",
        "model = Sequential()\n",
        "model.add(Embedding(max_words, embedding_dim, input_length=maxlen))\n",
        "model.add(Flatten())\n",
        "\n",
        "model.add(Dense(32, activation='relu'))\n",
        "model.add(Dense(1, activation='sigmoid'))\n",
        "model.summary()"
      ],
      "metadata": {
        "colab": {
          "base_uri": "https://localhost:8080/"
        },
        "id": "YDQP_Ui6UyvZ",
        "outputId": "b4d60f26-306c-4300-d4db-5251f00e8e33"
      },
      "execution_count": 158,
      "outputs": [
        {
          "output_type": "stream",
          "name": "stdout",
          "text": [
            "Model: \"sequential_30\"\n",
            "_________________________________________________________________\n",
            " Layer (type)                Output Shape              Param #   \n",
            "=================================================================\n",
            " embedding_31 (Embedding)    (None, 150, 100)          1000000   \n",
            "                                                                 \n",
            " flatten_30 (Flatten)        (None, 15000)             0         \n",
            "                                                                 \n",
            " dense_42 (Dense)            (None, 32)                480032    \n",
            "                                                                 \n",
            " dense_43 (Dense)            (None, 1)                 33        \n",
            "                                                                 \n",
            "=================================================================\n",
            "Total params: 1480065 (5.65 MB)\n",
            "Trainable params: 1480065 (5.65 MB)\n",
            "Non-trainable params: 0 (0.00 Byte)\n",
            "_________________________________________________________________\n"
          ]
        }
      ]
    },
    {
      "cell_type": "markdown",
      "source": [
        "freezing embedding layer in the model"
      ],
      "metadata": {
        "id": "3gxKqRPxcWtW"
      }
    },
    {
      "cell_type": "code",
      "source": [
        "model.layers[0].set_weights([embedding_matrix])\n",
        "model.layers[0].trainable = False"
      ],
      "metadata": {
        "id": "Q_QgtARRU0Sc"
      },
      "execution_count": 133,
      "outputs": []
    },
    {
      "cell_type": "markdown",
      "source": [
        "Training and evaluation of the model"
      ],
      "metadata": {
        "id": "Jac4VTZXcZ3K"
      }
    },
    {
      "cell_type": "code",
      "source": [
        "model.compile(optimizer='rmsprop',\n",
        "              loss='binary_crossentropy',\n",
        "              metrics=['acc'])\n",
        "history = model.fit(x_train, y_train,\n",
        "                    epochs=10,\n",
        "                    batch_size=32,\n",
        "                    validation_data=(x_val, y_val))\n",
        "model.save_weights('pre_trained_glove_model.h5')"
      ],
      "metadata": {
        "colab": {
          "base_uri": "https://localhost:8080/"
        },
        "id": "9uqKX5rlU3Z2",
        "outputId": "85ddc566-2265-43bb-99e1-78556af56c9f"
      },
      "execution_count": 159,
      "outputs": [
        {
          "output_type": "stream",
          "name": "stdout",
          "text": [
            "Epoch 1/10\n"
          ]
        },
        {
          "output_type": "stream",
          "name": "stderr",
          "text": [
            "WARNING:tensorflow:AutoGraph could not transform <function Model.make_train_function.<locals>.train_function at 0x782e705857e0> and will run it as-is.\n",
            "Please report this to the TensorFlow team. When filing the bug, set the verbosity to 10 (on Linux, `export AUTOGRAPH_VERBOSITY=10`) and attach the full output.\n",
            "Cause: closure mismatch, requested ('self', 'step_function'), but source function had ()\n",
            "To silence this warning, decorate the function with @tf.autograph.experimental.do_not_convert\n"
          ]
        },
        {
          "output_type": "stream",
          "name": "stdout",
          "text": [
            "WARNING: AutoGraph could not transform <function Model.make_train_function.<locals>.train_function at 0x782e705857e0> and will run it as-is.\n",
            "Please report this to the TensorFlow team. When filing the bug, set the verbosity to 10 (on Linux, `export AUTOGRAPH_VERBOSITY=10`) and attach the full output.\n",
            "Cause: closure mismatch, requested ('self', 'step_function'), but source function had ()\n",
            "To silence this warning, decorate the function with @tf.autograph.experimental.do_not_convert\n",
            "463/469 [============================>.] - ETA: 0s - loss: 0.6938 - acc: 0.4991"
          ]
        },
        {
          "output_type": "stream",
          "name": "stderr",
          "text": [
            "WARNING:tensorflow:AutoGraph could not transform <function Model.make_test_function.<locals>.test_function at 0x782e6b6aa680> and will run it as-is.\n",
            "Please report this to the TensorFlow team. When filing the bug, set the verbosity to 10 (on Linux, `export AUTOGRAPH_VERBOSITY=10`) and attach the full output.\n",
            "Cause: closure mismatch, requested ('self', 'step_function'), but source function had ()\n",
            "To silence this warning, decorate the function with @tf.autograph.experimental.do_not_convert\n"
          ]
        },
        {
          "output_type": "stream",
          "name": "stdout",
          "text": [
            "WARNING: AutoGraph could not transform <function Model.make_test_function.<locals>.test_function at 0x782e6b6aa680> and will run it as-is.\n",
            "Please report this to the TensorFlow team. When filing the bug, set the verbosity to 10 (on Linux, `export AUTOGRAPH_VERBOSITY=10`) and attach the full output.\n",
            "Cause: closure mismatch, requested ('self', 'step_function'), but source function had ()\n",
            "To silence this warning, decorate the function with @tf.autograph.experimental.do_not_convert\n",
            "469/469 [==============================] - 5s 10ms/step - loss: 0.6938 - acc: 0.4995 - val_loss: 0.6932 - val_acc: 0.4961\n",
            "Epoch 2/10\n",
            "469/469 [==============================] - 4s 9ms/step - loss: 0.6220 - acc: 0.6625 - val_loss: 0.7439 - val_acc: 0.4983\n",
            "Epoch 3/10\n",
            "469/469 [==============================] - 5s 11ms/step - loss: 0.2088 - acc: 0.9253 - val_loss: 1.1465 - val_acc: 0.4999\n",
            "Epoch 4/10\n",
            "469/469 [==============================] - 4s 9ms/step - loss: 0.0289 - acc: 0.9953 - val_loss: 1.5856 - val_acc: 0.4964\n",
            "Epoch 5/10\n",
            "469/469 [==============================] - 4s 9ms/step - loss: 0.0088 - acc: 0.9983 - val_loss: 1.8372 - val_acc: 0.4951\n",
            "Epoch 6/10\n",
            "469/469 [==============================] - 5s 12ms/step - loss: 0.0048 - acc: 0.9984 - val_loss: 2.0275 - val_acc: 0.4967\n",
            "Epoch 7/10\n",
            "469/469 [==============================] - 4s 9ms/step - loss: 0.0029 - acc: 0.9987 - val_loss: 2.1549 - val_acc: 0.4951\n",
            "Epoch 8/10\n",
            "469/469 [==============================] - 4s 9ms/step - loss: 0.0026 - acc: 0.9986 - val_loss: 2.2303 - val_acc: 0.5024\n",
            "Epoch 9/10\n",
            "469/469 [==============================] - 5s 11ms/step - loss: 0.0025 - acc: 0.9987 - val_loss: 2.2469 - val_acc: 0.5015\n",
            "Epoch 10/10\n",
            "469/469 [==============================] - 4s 9ms/step - loss: 0.0020 - acc: 0.9987 - val_loss: 2.3046 - val_acc: 0.4971\n"
          ]
        }
      ]
    },
    {
      "cell_type": "code",
      "source": [
        "import matplotlib.pyplot as plt\n",
        "# Plotting the Training and Validation Accuracy\n",
        "plt.figure(figsize=(10, 4))\n",
        "\n",
        "plt.plot(epochs, acc, 'b', label='Training Accuracy', marker='o')\n",
        "plt.plot(epochs, val_acc, 'r', label='Validation Accuracy', marker='x')\n",
        "\n",
        "plt.title('Training and Validation Accuracy')\n",
        "plt.xlabel('Epochs')\n",
        "plt.ylabel('Accuracy')\n",
        "plt.legend()\n",
        "plt.grid(True)\n",
        "plt.style.use('seaborn-darkgrid')\n",
        "\n",
        "plt.show()\n",
        "\n",
        "# Plotting the Training and Validation Loss\n",
        "plt.figure(figsize=(10, 4))\n",
        "\n",
        "plt.plot(epochs, loss, 'b', label='Training Loss', marker='o')\n",
        "plt.plot(epochs, val_loss, 'r', label='Validation Loss', marker='x')\n",
        "\n",
        "plt.title('Training and Validation Loss')\n",
        "plt.xlabel('Epochs')\n",
        "plt.ylabel('Loss')\n",
        "plt.legend()\n",
        "plt.grid(True)\n",
        "plt.style.use('seaborn-darkgrid')\n",
        "\n",
        "plt.show()\n"
      ],
      "metadata": {
        "colab": {
          "base_uri": "https://localhost:8080/",
          "height": 880
        },
        "id": "hO-WQ1ItUW92",
        "outputId": "954c07cb-cb1b-4f92-f370-a23091b680fb"
      },
      "execution_count": 116,
      "outputs": [
        {
          "output_type": "stream",
          "name": "stderr",
          "text": [
            "<ipython-input-116-964a84a70c58>:13: MatplotlibDeprecationWarning: The seaborn styles shipped by Matplotlib are deprecated since 3.6, as they no longer correspond to the styles shipped by seaborn. However, they will remain available as 'seaborn-v0_8-<style>'. Alternatively, directly use the seaborn API instead.\n",
            "  plt.style.use('seaborn-darkgrid')\n"
          ]
        },
        {
          "output_type": "display_data",
          "data": {
            "text/plain": [
              "<Figure size 1000x400 with 1 Axes>"
            ],
            "image/png": "[encoded data removed]"
          },
          "metadata": {}
        },
        {
          "output_type": "stream",
          "name": "stderr",
          "text": [
            "<ipython-input-116-964a84a70c58>:28: MatplotlibDeprecationWarning: The seaborn styles shipped by Matplotlib are deprecated since 3.6, as they no longer correspond to the styles shipped by seaborn. However, they will remain available as 'seaborn-v0_8-<style>'. Alternatively, directly use the seaborn API instead.\n",
            "  plt.style.use('seaborn-darkgrid')\n"
          ]
        },
        {
          "output_type": "display_data",
          "data": {
            "text/plain": [
              "<Figure size 1000x400 with 1 Axes>"
            ],
            "image/png": "[encoded data removed]"
          },
          "metadata": {}
        }
      ]
    },
    {
      "cell_type": "markdown",
      "source": [
        "Plotting perfromance"
      ],
      "metadata": {
        "id": "lcnsVyVWcdy8"
      }
    },
    {
      "cell_type": "markdown",
      "source": [
        "Running the pre-trained model on test set"
      ],
      "metadata": {
        "id": "V9zpIVr7cjcu"
      }
    },
    {
      "cell_type": "code",
      "source": [
        "test_dir = os.path.join(imdb_dir, 'test')\n",
        "\n",
        "labels = []\n",
        "texts = []\n",
        "\n",
        "for label_type in ['neg', 'pos']:\n",
        "    dir_name = os.path.join(test_dir, label_type)\n",
        "    for fname in sorted(os.listdir(dir_name)):\n",
        "        if fname[-4:] == '.txt':\n",
        "            f = open(os.path.join(dir_name, fname))\n",
        "            texts.append(f.read())\n",
        "            f.close()\n",
        "            if label_type == 'neg':\n",
        "                labels.append(0)\n",
        "            else:\n",
        "                labels.append(1)\n",
        "\n",
        "sequences = tokenizer.texts_to_sequences(texts)\n",
        "x_test = pad_sequences(sequences, maxlen=maxlen)\n",
        "y_test = np.asarray(labels)"
      ],
      "metadata": {
        "id": "5mfH_0udWUan"
      },
      "execution_count": null,
      "outputs": []
    },
    {
      "cell_type": "code",
      "source": [
        "model.load_weights('pre_trained_glove_model.h5')\n",
        "model.evaluate(x_test, y_test)"
      ],
      "metadata": {
        "colab": {
          "base_uri": "https://localhost:8080/"
        },
        "id": "Q4LO0hpmWmCD",
        "outputId": "de25b64b-c213-4cc7-bb2c-7307a0992a67"
      },
      "execution_count": null,
      "outputs": [
        {
          "output_type": "stream",
          "name": "stdout",
          "text": [
            "782/782 [==============================] - 3s 4ms/step - loss: 2.0456 - acc: 0.5051\n"
          ]
        },
        {
          "output_type": "execute_result",
          "data": {
            "text/plain": [
              "[2.045579671859741, 0.5051199793815613]"
            ]
          },
          "metadata": {},
          "execution_count": 44
        }
      ]
    }
  ]
}