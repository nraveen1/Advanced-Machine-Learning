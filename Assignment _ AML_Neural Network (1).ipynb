{
 "cells": [
  {
   "cell_type": "markdown",
   "id": "fbf62d88",
   "metadata": {},
   "source": [
    "# Assignment _ AML_Neural Network"
   ]
  },
  {
   "cell_type": "code",
   "execution_count": null,
   "id": "f5515c71",
   "metadata": {},
   "outputs": [],
   "source": [
    "from tensorflow.keras.datasets import imdb\n",
    "(train_data, train_labels), (test_data, test_labels) = imdb.load_data(\n",
    "    num_words=10000)"
   ]
  },
  {
   "cell_type": "code",
   "execution_count": 18,
   "id": "1327456f",
   "metadata": {},
   "outputs": [
    {
     "data": {
      "text/plain": [
       "1"
      ]
     },
     "execution_count": 18,
     "metadata": {},
     "output_type": "execute_result"
    }
   ],
   "source": [
    "train_labels[0]"
   ]
  },
  {
   "cell_type": "code",
   "execution_count": 19,
   "id": "f4ef6c29",
   "metadata": {},
   "outputs": [
    {
     "data": {
      "text/plain": [
       "9999"
      ]
     },
     "execution_count": 19,
     "metadata": {},
     "output_type": "execute_result"
    }
   ],
   "source": [
    "max([max(sequence) for sequence in train_data])"
   ]
  },
  {
   "cell_type": "code",
   "execution_count": 14,
   "id": "89bfba1b",
   "metadata": {},
   "outputs": [],
   "source": [
    "word_index = imdb.get_word_index()\n",
    "reverse_word_index = dict(\n",
    "    [(value, key) for (key, value) in word_index.items()])\n",
    "decoded_review = \" \".join(\n",
    "    [reverse_word_index.get(i - 3, \"?\") for i in train_data[0]])"
   ]
  },
  {
   "cell_type": "code",
   "execution_count": 21,
   "id": "fea9cd21",
   "metadata": {},
   "outputs": [
    {
     "data": {
      "text/plain": [
       "1"
      ]
     },
     "execution_count": 21,
     "metadata": {},
     "output_type": "execute_result"
    }
   ],
   "source": [
    "train_labels[0]"
   ]
  },
  {
   "cell_type": "code",
   "execution_count": 22,
   "id": "6bc65e8e",
   "metadata": {},
   "outputs": [
    {
     "data": {
      "text/plain": [
       "9999"
      ]
     },
     "execution_count": 22,
     "metadata": {},
     "output_type": "execute_result"
    }
   ],
   "source": [
    "max([max(sequence) for sequence in train_data])"
   ]
  },
  {
   "cell_type": "code",
   "execution_count": 15,
   "id": "b046385e",
   "metadata": {},
   "outputs": [],
   "source": [
    "word_index = imdb.get_word_index()\n",
    "reverse_word_index = dict(\n",
    "    [(value, key) for (key, value) in word_index.items()])\n",
    "decoded_review = \" \".join(\n",
    "    [reverse_word_index.get(i - 3, \"?\") for i in train_data[0]])"
   ]
  },
  {
   "cell_type": "code",
   "execution_count": 24,
   "id": "48202cf4",
   "metadata": {},
   "outputs": [],
   "source": [
    "import numpy as np\n",
    "def vectorize_sequences(sequences, dimension=10000):\n",
    "    results = np.zeros((len(sequences), dimension))\n",
    "    for i, sequence in enumerate(sequences):\n",
    "        for j in sequence:\n",
    "            results[i, j] = 1.\n",
    "    return results\n",
    "x_train = vectorize_sequences(train_data)\n",
    "x_test = vectorize_sequences(test_data)"
   ]
  },
  {
   "cell_type": "code",
   "execution_count": 25,
   "id": "12aa4420",
   "metadata": {},
   "outputs": [
    {
     "data": {
      "text/plain": [
       "array([0., 1., 1., ..., 0., 0., 0.])"
      ]
     },
     "execution_count": 25,
     "metadata": {},
     "output_type": "execute_result"
    }
   ],
   "source": [
    "x_train[0]"
   ]
  },
  {
   "cell_type": "markdown",
   "id": "d9e8592a",
   "metadata": {},
   "source": [
    "#vectorosing the test and Train Data#"
   ]
  },
  {
   "cell_type": "code",
   "execution_count": 17,
   "id": "ded7fc7d",
   "metadata": {},
   "outputs": [],
   "source": [
    "# Vectorizing the data\n",
    "y_train = np.asarray(train_labels).astype(\"float32\")\n",
    "y_test = np.asarray(test_labels).astype(\"float32\")\n",
    "\n"
   ]
  },
  {
   "cell_type": "markdown",
   "id": "8ff0ae83",
   "metadata": {},
   "source": [
    "* Model Building with 32 Hidden units*"
   ]
  },
  {
   "cell_type": "code",
   "execution_count": 18,
   "id": "acf5f539",
   "metadata": {},
   "outputs": [],
   "source": [
    "from tensorflow import keras\n",
    "from tensorflow.keras import layers\n",
    "\n",
    "model = keras.Sequential([\n",
    "    layers.Dense(32, activation=\"tanh\"),\n",
    "    layers.Dense(1, activation=\"sigmoid\")\n",
    "])"
   ]
  },
  {
   "cell_type": "markdown",
   "id": "1e9bb7ef",
   "metadata": {},
   "source": [
    "**Compiling the model using MSE instead of binary_crossentropy.**"
   ]
  },
  {
   "cell_type": "code",
   "execution_count": 19,
   "id": "79242d03",
   "metadata": {},
   "outputs": [],
   "source": [
    "model.compile(optimizer=\"adam\", #changing optimizer to ADAM\n",
    "              loss=\"mean_squared_error\",\n",
    "              metrics=[\"accuracy\"])"
   ]
  },
  {
   "cell_type": "markdown",
   "id": "5311859c",
   "metadata": {},
   "source": [
    "*Among the available optimizers, I lean towards selecting Adam over RMSprop. This choice aligns with recent trends and recommendations from sources, including Google. Adam is widely regarded as one of the top optimizers in various machine learning tasks.*\n",
    "\n",
    "Additionally, I've updated the loss function from binary_crossentropy to mean squared error (MSE)."
   ]
  },
  {
   "cell_type": "markdown",
   "id": "f1c77599",
   "metadata": {},
   "source": [
    "#Setting a part of training data as validation data#"
   ]
  },
  {
   "cell_type": "code",
   "execution_count": 21,
   "id": "86893f57",
   "metadata": {},
   "outputs": [],
   "source": [
    "# Creating validation Set\n",
    "\n",
    "x_val = x_train[:10000]\n",
    "partial_x_train = x_train[10000:]\n",
    "\n",
    "y_val = y_train[:10000]\n",
    "partial_y_train = y_train[10000:]"
   ]
  },
  {
   "cell_type": "code",
   "execution_count": 22,
   "id": "72cb11fc",
   "metadata": {},
   "outputs": [
    {
     "name": "stdout",
     "output_type": "stream",
     "text": [
      "Epoch 1/10\n",
      "30/30 [==============================] - 2s 48ms/step - loss: 0.1585 - accuracy: 0.7990 - val_loss: 0.1118 - val_accuracy: 0.8669\n",
      "Epoch 2/10\n",
      "30/30 [==============================] - 1s 27ms/step - loss: 0.0811 - accuracy: 0.9105 - val_loss: 0.0911 - val_accuracy: 0.8865\n",
      "Epoch 3/10\n",
      "30/30 [==============================] - 1s 27ms/step - loss: 0.0588 - accuracy: 0.9401 - val_loss: 0.0857 - val_accuracy: 0.8879\n",
      "Epoch 4/10\n",
      "30/30 [==============================] - 1s 27ms/step - loss: 0.0458 - accuracy: 0.9565 - val_loss: 0.0845 - val_accuracy: 0.8863\n",
      "Epoch 5/10\n",
      "30/30 [==============================] - 1s 30ms/step - loss: 0.0367 - accuracy: 0.9683 - val_loss: 0.0843 - val_accuracy: 0.8847\n",
      "Epoch 6/10\n",
      "30/30 [==============================] - 1s 28ms/step - loss: 0.0297 - accuracy: 0.9764 - val_loss: 0.0854 - val_accuracy: 0.8850\n",
      "Epoch 7/10\n",
      "30/30 [==============================] - 1s 27ms/step - loss: 0.0246 - accuracy: 0.9826 - val_loss: 0.0866 - val_accuracy: 0.8831\n",
      "Epoch 8/10\n",
      "30/30 [==============================] - 1s 27ms/step - loss: 0.0206 - accuracy: 0.9857 - val_loss: 0.0881 - val_accuracy: 0.8799\n",
      "Epoch 9/10\n",
      "30/30 [==============================] - 1s 24ms/step - loss: 0.0172 - accuracy: 0.9893 - val_loss: 0.0900 - val_accuracy: 0.8785\n",
      "Epoch 10/10\n",
      "30/30 [==============================] - 1s 24ms/step - loss: 0.0145 - accuracy: 0.9914 - val_loss: 0.0923 - val_accuracy: 0.8756\n"
     ]
    }
   ],
   "source": [
    "## model planned to train with 10 epoch with batch size of 512\n",
    "\n",
    "history = model.fit(partial_x_train,\n",
    "                    partial_y_train,\n",
    "                    epochs=10,\n",
    "                    batch_size=512,\n",
    "                    validation_data=(x_val, y_val))"
   ]
  },
  {
   "cell_type": "code",
   "execution_count": 23,
   "id": "3aa376a4",
   "metadata": {},
   "outputs": [
    {
     "data": {
      "text/plain": [
       "dict_keys(['loss', 'accuracy', 'val_loss', 'val_accuracy'])"
      ]
     },
     "execution_count": 23,
     "metadata": {},
     "output_type": "execute_result"
    }
   ],
   "source": [
    "\n",
    "#Creating a History Object\n",
    "\n",
    "history_dict = history.history\n",
    "history_dict.keys()"
   ]
  },
  {
   "cell_type": "markdown",
   "id": "8247f151",
   "metadata": {},
   "source": [
    "**Plotting Training and Validation Loss to find optimal number of epochs:**"
   ]
  },
  {
   "cell_type": "code",
   "execution_count": 24,
   "id": "3e967d43",
   "metadata": {},
   "outputs": [
    {
     "data": {
      "image/png": "[encoded data removed]",
      "text/plain": [
       "<Figure size 432x288 with 1 Axes>"
      ]
     },
     "metadata": {
      "needs_background": "light"
     },
     "output_type": "display_data"
    }
   ],
   "source": [
    "# Plotting Training and Validation Loss\n",
    "\n",
    "import matplotlib.pyplot as plt\n",
    "\n",
    "acc = history.history['accuracy']\n",
    "val_acc = history.history['val_accuracy']\n",
    "loss = history.history['loss']\n",
    "val_loss = history.history['val_loss']\n",
    "\n",
    "epochs = range(1, len(acc) + 1)\n",
    "\n",
    "# \"bo\" is for \"blue dot\"\n",
    "plt.plot(epochs, loss, 'bo', label='Training loss')\n",
    "# b is for \"solid blue line\"\n",
    "plt.plot(epochs, val_loss, 'b', label='Validation loss')\n",
    "plt.title('Training and validation loss')\n",
    "plt.xlabel('Epochs')\n",
    "plt.ylabel('Loss')\n",
    "plt.legend()\n",
    "\n",
    "plt.show()"
   ]
  },
  {
   "cell_type": "markdown",
   "id": "c5515d1f",
   "metadata": {},
   "source": [
    "Optimal number of epochs=2 ,Training validation loss increases as epoch goes above 2 due to over-fitting."
   ]
  },
  {
   "cell_type": "markdown",
   "id": "be767565",
   "metadata": {},
   "source": [
    "**Plotting training and Validation Accuracy**"
   ]
  },
  {
   "cell_type": "code",
   "execution_count": 27,
   "id": "7447f895",
   "metadata": {},
   "outputs": [
    {
     "data": {
      "image/png": "[encoded data removed]",
      "text/plain": [
       "<Figure size 432x288 with 1 Axes>"
      ]
     },
     "metadata": {
      "needs_background": "light"
     },
     "output_type": "display_data"
    }
   ],
   "source": [
    "plt.clf()\n",
    "acc = history_dict[\"accuracy\"]\n",
    "val_acc = history_dict[\"val_accuracy\"]\n",
    "plt.plot(epochs, acc, \"bo\", label=\"Training acc\")\n",
    "plt.plot(epochs, val_acc, \"b\", label=\"Validation acc\")\n",
    "plt.title(\"Training and validation accuracy\")\n",
    "plt.xlabel(\"Epochs\")\n",
    "plt.ylabel(\"Accuracy\")\n",
    "plt.legend()\n",
    "plt.show()"
   ]
  },
  {
   "cell_type": "markdown",
   "id": "e99d09c1",
   "metadata": {},
   "source": [
    "*From the above figure t's evident that the training accuracy approaches nearly 100%, specifically reaching 99.81% accuracy after 10 epochs.*\n",
    "\n",
    "\n",
    "*If we observe the validation accuracy, At the beginning, there is an upward trend in accuracy, followed by a subsequent decrease, possibly stabilizing at a consistent 86% towards the end.*"
   ]
  },
  {
   "cell_type": "code",
   "execution_count": 28,
   "id": "27ffaa80",
   "metadata": {},
   "outputs": [
    {
     "name": "stdout",
     "output_type": "stream",
     "text": [
      "782/782 [==============================] - 1s 681us/step - loss: 0.1012 - accuracy: 0.8634\n"
     ]
    }
   ],
   "source": [
    "results = model.evaluate(x_test, y_test)"
   ]
  },
  {
   "cell_type": "code",
   "execution_count": 29,
   "id": "b5662efa",
   "metadata": {},
   "outputs": [
    {
     "data": {
      "text/plain": [
       "[0.10117580741643906, 0.8633999824523926]"
      ]
     },
     "execution_count": 29,
     "metadata": {},
     "output_type": "execute_result"
    }
   ],
   "source": [
    "results"
   ]
  },
  {
   "cell_type": "markdown",
   "id": "0661e60d",
   "metadata": {},
   "source": [
    "**Re-building the model with drop-out and the Regularise**"
   ]
  },
  {
   "cell_type": "code",
   "execution_count": 34,
   "id": "4b720354",
   "metadata": {},
   "outputs": [],
   "source": [
    "from tensorflow import keras\n",
    "from tensorflow.keras import layers\n",
    "from keras.layers import Dense\n",
    "from keras.layers import Dropout\n",
    "from tensorflow.keras import regularizers\n",
    "\n",
    "\n",
    "model = keras.Sequential()\n",
    "model.add(Dense(32,activation='tanh', activity_regularizer=regularizers.L2(0.01)))\n",
    "model.add(Dropout(0.2))\n",
    "model.add(Dense(1, activation='sigmoid'))\n",
    "\n",
    "model.compile(optimizer=\"adam\", #changing optimizer to ADAM\n",
    "              loss=\"mean_squared_error\",\n",
    "              metrics=[\"accuracy\"])\n",
    "\n",
    "          \n",
    "x_val = x_train[:10000]\n",
    "partial_x_train = x_train[10000:]\n",
    "y_val = y_train[:10000]\n",
    "partial_y_train = y_train[10000:]\n",
    "\n",
    "          \n",
    "\n",
    "history = model.fit(partial_x_train,\n",
    "                    partial_y_train,\n",
    "                    epochs=0,\n",
    "                    batch_size=256,\n",
    "                    validation_data=(x_val, y_val))\n"
   ]
  },
  {
   "cell_type": "code",
   "execution_count": 35,
   "id": "1b488bda",
   "metadata": {},
   "outputs": [
    {
     "data": {
      "image/png": "[encoded data removed]",
      "text/plain": [
       "<Figure size 432x288 with 1 Axes>"
      ]
     },
     "metadata": {
      "needs_background": "light"
     },
     "output_type": "display_data"
    }
   ],
   "source": [
    "plt.clf()\n",
    "acc = history_dict[\"accuracy\"]\n",
    "val_acc = history_dict[\"val_accuracy\"]\n",
    "plt.plot(epochs, acc, \"bo\", label=\"Training acc\")\n",
    "plt.plot(epochs, val_acc, \"b\", label=\"Validation acc\")\n",
    "plt.title(\"Training and validation accuracy\")\n",
    "plt.xlabel(\"Epochs\")\n",
    "plt.ylabel(\"Accuracy\")\n",
    "plt.legend()\n",
    "plt.show()"
   ]
  },
  {
   "cell_type": "markdown",
   "id": "32882647",
   "metadata": {},
   "source": [
    "*When I applied the dropout layer, it had a limited impact on my results. The validation accuracy increased only slightly, by a fraction, reaching 86.69%.*"
   ]
  },
  {
   "cell_type": "code",
   "execution_count": 36,
   "id": "9a6cb83a",
   "metadata": {},
   "outputs": [
    {
     "name": "stdout",
     "output_type": "stream",
     "text": [
      "782/782 [==============================] - 1s 679us/step - loss: 0.2621 - accuracy: 0.4960\n"
     ]
    }
   ],
   "source": [
    "results = model.evaluate(x_test, y_test)"
   ]
  },
  {
   "cell_type": "code",
   "execution_count": 37,
   "id": "40394a1f",
   "metadata": {},
   "outputs": [
    {
     "data": {
      "text/plain": [
       "[0.26209133863449097, 0.4959999918937683]"
      ]
     },
     "execution_count": 37,
     "metadata": {},
     "output_type": "execute_result"
    }
   ],
   "source": [
    "results"
   ]
  },
  {
   "cell_type": "markdown",
   "id": "8f47917e",
   "metadata": {},
   "source": [
    "*Considering a scenario where we employ a neural network architecture consisting of three hidden layers. For optimization, we opt for the Adam optimizer, while the activation function employed in these layers is tanh. To compute the loss, we utilize the mean squared error (MSE) as our chosen loss function.*"
   ]
  },
  {
   "cell_type": "markdown",
   "id": "eaf3c2cb",
   "metadata": {},
   "source": [
    "**Training the model with Hypertunned Parameters mentioned above**"
   ]
  },
  {
   "cell_type": "code",
   "execution_count": 38,
   "id": "4298e671",
   "metadata": {},
   "outputs": [
    {
     "name": "stdout",
     "output_type": "stream",
     "text": [
      "Epoch 1/10\n",
      "30/30 [==============================] - 2s 53ms/step - loss: 1.6263 - accuracy: 0.7444 - val_loss: 1.4020 - val_accuracy: 0.8696\n",
      "Epoch 2/10\n",
      "30/30 [==============================] - 1s 29ms/step - loss: 1.2694 - accuracy: 0.8901 - val_loss: 1.1165 - val_accuracy: 0.8855\n",
      "Epoch 3/10\n",
      "30/30 [==============================] - 1s 28ms/step - loss: 0.9935 - accuracy: 0.9228 - val_loss: 0.8808 - val_accuracy: 0.8869\n",
      "Epoch 4/10\n",
      "30/30 [==============================] - 1s 28ms/step - loss: 0.7609 - accuracy: 0.9361 - val_loss: 0.6741 - val_accuracy: 0.8855\n",
      "Epoch 5/10\n",
      "30/30 [==============================] - 1s 30ms/step - loss: 0.5602 - accuracy: 0.9481 - val_loss: 0.5012 - val_accuracy: 0.8846\n",
      "Epoch 6/10\n",
      "30/30 [==============================] - 1s 31ms/step - loss: 0.3976 - accuracy: 0.9560 - val_loss: 0.3634 - val_accuracy: 0.8823\n",
      "Epoch 7/10\n",
      "30/30 [==============================] - 1s 28ms/step - loss: 0.2693 - accuracy: 0.9635 - val_loss: 0.2567 - val_accuracy: 0.8841\n",
      "Epoch 8/10\n",
      "30/30 [==============================] - 1s 30ms/step - loss: 0.1756 - accuracy: 0.9691 - val_loss: 0.1836 - val_accuracy: 0.8816\n",
      "Epoch 9/10\n",
      "30/30 [==============================] - 1s 31ms/step - loss: 0.1164 - accuracy: 0.9721 - val_loss: 0.1423 - val_accuracy: 0.8836\n",
      "Epoch 10/10\n",
      "30/30 [==============================] - 1s 31ms/step - loss: 0.0862 - accuracy: 0.9744 - val_loss: 0.1258 - val_accuracy: 0.8848\n"
     ]
    }
   ],
   "source": [
    "from tensorflow import keras\n",
    "from tensorflow.keras import layers\n",
    "from keras.layers import Dense\n",
    "from keras.layers import Dropout\n",
    "\n",
    "\n",
    "model = keras.Sequential()\n",
    "model.add(Dense(32,activation='tanh'))\n",
    "model.add(Dropout(0.5))\n",
    "model.add(Dense(32,activation='tanh',kernel_regularizer=regularizers.L1(0.01), activity_regularizer=regularizers.L2(0.01)))\n",
    "model.add(Dropout(0.5))\n",
    "model.add(Dense(32,activation='tanh'))\n",
    "model.add(Dense(1, activation='sigmoid'))\n",
    "\n",
    "model.compile(optimizer=\"adam\", #changing optimizer to ADAM\n",
    "              loss=\"mean_squared_error\",\n",
    "              metrics=[\"accuracy\"])\n",
    "\n",
    "          \n",
    "x_val = x_train[:10000]\n",
    "partial_x_train = x_train[10000:]\n",
    "y_val = y_train[:10000]\n",
    "partial_y_train = y_train[10000:]\n",
    "\n",
    "          \n",
    "\n",
    "history = model.fit(partial_x_train,\n",
    "                    partial_y_train,\n",
    "                    epochs=10,\n",
    "                    batch_size=512,\n",
    "                    validation_data=(x_val, y_val))"
   ]
  },
  {
   "cell_type": "code",
   "execution_count": 17,
   "id": "7a0d4449",
   "metadata": {},
   "outputs": [
    {
     "ename": "NameError",
     "evalue": "name 'history' is not defined",
     "output_type": "error",
     "traceback": [
      "\u001b[0;31m---------------------------------------------------------------------------\u001b[0m",
      "\u001b[0;31mNameError\u001b[0m                                 Traceback (most recent call last)",
      "\u001b[0;32m<ipython-input-17-e802eb203113>\u001b[0m in \u001b[0;36m<module>\u001b[0;34m\u001b[0m\n\u001b[1;32m      1\u001b[0m \u001b[0mplt\u001b[0m\u001b[0;34m.\u001b[0m\u001b[0mclf\u001b[0m\u001b[0;34m(\u001b[0m\u001b[0;34m)\u001b[0m\u001b[0;34m\u001b[0m\u001b[0;34m\u001b[0m\u001b[0m\n\u001b[0;32m----> 2\u001b[0;31m \u001b[0macc\u001b[0m \u001b[0;34m=\u001b[0m \u001b[0mhistory\u001b[0m\u001b[0;34m[\u001b[0m\u001b[0;34m\"accuracy\"\u001b[0m\u001b[0;34m]\u001b[0m\u001b[0;34m\u001b[0m\u001b[0;34m\u001b[0m\u001b[0m\n\u001b[0m\u001b[1;32m      3\u001b[0m \u001b[0mval_acc\u001b[0m \u001b[0;34m=\u001b[0m \u001b[0mhistory\u001b[0m\u001b[0;34m[\u001b[0m\u001b[0;34m\"val_accuracy\"\u001b[0m\u001b[0;34m]\u001b[0m\u001b[0;34m\u001b[0m\u001b[0;34m\u001b[0m\u001b[0m\n\u001b[1;32m      4\u001b[0m \u001b[0mplt\u001b[0m\u001b[0;34m.\u001b[0m\u001b[0mplot\u001b[0m\u001b[0;34m(\u001b[0m\u001b[0mepochs\u001b[0m\u001b[0;34m,\u001b[0m \u001b[0macc\u001b[0m\u001b[0;34m,\u001b[0m \u001b[0;34m\"bo\"\u001b[0m\u001b[0;34m,\u001b[0m \u001b[0mlabel\u001b[0m\u001b[0;34m=\u001b[0m\u001b[0;34m\"Training acc\"\u001b[0m\u001b[0;34m)\u001b[0m\u001b[0;34m\u001b[0m\u001b[0;34m\u001b[0m\u001b[0m\n\u001b[1;32m      5\u001b[0m \u001b[0mplt\u001b[0m\u001b[0;34m.\u001b[0m\u001b[0mplot\u001b[0m\u001b[0;34m(\u001b[0m\u001b[0mepochs\u001b[0m\u001b[0;34m,\u001b[0m \u001b[0mval_acc\u001b[0m\u001b[0;34m,\u001b[0m \u001b[0;34m\"b\"\u001b[0m\u001b[0;34m,\u001b[0m \u001b[0mlabel\u001b[0m\u001b[0;34m=\u001b[0m\u001b[0;34m\"Validation acc\"\u001b[0m\u001b[0;34m)\u001b[0m\u001b[0;34m\u001b[0m\u001b[0;34m\u001b[0m\u001b[0m\n",
      "\u001b[0;31mNameError\u001b[0m: name 'history' is not defined"
     ]
    },
    {
     "data": {
      "text/plain": [
       "<Figure size 432x288 with 0 Axes>"
      ]
     },
     "metadata": {},
     "output_type": "display_data"
    }
   ],
   "source": [
    "plt.clf()\n",
    "acc = history_dict[\"accuracy\"]\n",
    "val_acc = history_dict[\"val_accuracy\"]\n",
    "plt.plot(epochs, acc, \"bo\", label=\"Training acc\")\n",
    "plt.plot(epochs, val_acc, \"b\", label=\"Validation acc\")\n",
    "plt.title(\"Training and validation accuracy\")\n",
    "plt.xlabel(\"Epochs\")\n",
    "plt.ylabel(\"Accuracy\")\n",
    "plt.legend()\n",
    "plt.show()"
   ]
  },
  {
   "cell_type": "markdown",
   "id": "9e68750a",
   "metadata": {},
   "source": [
    "**Summary**"
   ]
  },
  {
   "cell_type": "markdown",
   "id": "6ee4aebc",
   "metadata": {},
   "source": [
    "For Implementing the neural networks, we need the layers\n",
    "\n",
    "+ Input Layer : using keras we try to create a model that starts with input represented using \"Keras.Sequential\"\n",
    "   model = keras.Sequential()\n",
    "+ Hidden Layer: added layers  using the format \"model.add(Dense(32,activation='tanh'))\"\n",
    "    model.add(Dense(32,activation='tanh'))\n",
    "    model.add(Dense(32,activation='tanh'))\n",
    "    model.add(Dense(32,activation='tanh'))\n",
    "+ Output Layer : The output layer will typically consist of a single unit, which produces the output value. This is  often represented as:\"model.add(Dense(1, activation='sigmoid'))\""
   ]
  },
  {
   "cell_type": "markdown",
   "id": "0f198a1a",
   "metadata": {},
   "source": [
    "*I would like briefly explain hidden Layer.*\n",
    "\n",
    "we are introducing a dense layer with 32 hidden units, and it employs the \"tanh activation function.\"\n",
    "When we mention having 2 or 3 hidden layers, this description is applied 2 or 3 times consecutively.\n",
    "\n",
    "Common activation functions include relu, tanh, and sigmoid.\n",
    "\n",
    "Typically, the output layer consists of a single unit, often using the sigmoid activation function.\n",
    "\n",
    "The statement \"model.compile(optimizer='adam', loss='mean_squared_error', metrics=['accuracy'])\" indicates that the network will be compiled using the Adam optimizer, employing mean squared error (MSE) as the loss function, and tracking accuracy as a metric."
   ]
  },
  {
   "cell_type": "markdown",
   "id": "7de1b1f8",
   "metadata": {},
   "source": [
    "**Conclusions:**\n",
    "\n",
    "+ We've created neural networks with both single and three layers.\n",
    "\n",
    "+ Tanh activation functions have been employed in lieu of ReLU.\n",
    "\n",
    "+ The optimizer of choice is Adam, replacing RMSprop.\n",
    "\n",
    "+ We've introduced dropout layers with dropout rates of 0.4 in the single-layer model and 0.5 in the three-layer model.\n",
    "\n",
    "+ L1 and L2 regularizers have been incorporated into the models."
   ]
  },
  {
   "cell_type": "markdown",
   "id": "83196803",
   "metadata": {},
   "source": [
    "+ Achieved a training accuracy of 99% on the IMDB dataset.\n",
    "\n",
    "*Comparison of two approaches:*\n",
    "\n",
    "+ Single-layer approach: Validation accuracy reached 86.34%.\n",
    "+ Three-layered approach: Achieved a higher validation accuracy of 86.41%.\n",
    "+ Addressed overfitting concerns with the introduction of dropout layers, resulting in an accuracy increase to 88.48% in the three-layered approach.\n",
    "+ The use of dropout layers and L1 & L2 regularizers contributed to this improvement."
   ]
  },
  {
   "cell_type": "markdown",
   "id": "b5d9eff3",
   "metadata": {},
   "source": [
    "| Approach             | Training Accuracy | Validation Accuracy | \n",
    "|----------------------|-------------------|---------------------|\n",
    "| Single-layer         | 99.81%            | 86.34%              |\n",
    "| Three-layered        | 99.81%            | 86.41%              |\n",
    "| Dropout and Regularise | 97.44%          | 88.48%              | \n",
    "\n"
   ]
  }
 ],
 "metadata": {
  "kernelspec": {
   "display_name": "Python 3",
   "language": "python",
   "name": "python3"
  },
  "language_info": {
   "codemirror_mode": {
    "name": "ipython",
    "version": 3
   },
   "file_extension": ".py",
   "mimetype": "text/x-python",
   "name": "python",
   "nbconvert_exporter": "python",
   "pygments_lexer": "ipython3",
   "version": "3.6.8"
  }
 },
 "nbformat": 4,
 "nbformat_minor": 5
}
